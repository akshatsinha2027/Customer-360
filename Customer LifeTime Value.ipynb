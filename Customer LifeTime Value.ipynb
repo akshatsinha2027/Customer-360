{
 "cells": [
  {
   "cell_type": "code",
   "execution_count": 1,
   "id": "6e67d7f6",
   "metadata": {},
   "outputs": [],
   "source": [
    "import numpy as np\n",
    "import pandas as pd"
   ]
  },
  {
   "cell_type": "code",
   "execution_count": 2,
   "id": "ad871dce",
   "metadata": {},
   "outputs": [
    {
     "data": {
      "text/html": [
       "<div>\n",
       "<style scoped>\n",
       "    .dataframe tbody tr th:only-of-type {\n",
       "        vertical-align: middle;\n",
       "    }\n",
       "\n",
       "    .dataframe tbody tr th {\n",
       "        vertical-align: top;\n",
       "    }\n",
       "\n",
       "    .dataframe thead th {\n",
       "        text-align: right;\n",
       "    }\n",
       "</style>\n",
       "<table border=\"1\" class=\"dataframe\">\n",
       "  <thead>\n",
       "    <tr style=\"text-align: right;\">\n",
       "      <th></th>\n",
       "      <th>age</th>\n",
       "      <th>gender</th>\n",
       "      <th>security_no</th>\n",
       "      <th>joining_date</th>\n",
       "      <th>joined_through_referral</th>\n",
       "      <th>referral_id</th>\n",
       "      <th>last_visit_time</th>\n",
       "      <th>days_since_last_login</th>\n",
       "      <th>avg_session_duration</th>\n",
       "      <th>avg_transaction_value</th>\n",
       "      <th>...</th>\n",
       "      <th>feedback_No reason specified</th>\n",
       "      <th>feedback_Poor Customer Service</th>\n",
       "      <th>feedback_Poor Product Quality</th>\n",
       "      <th>feedback_Poor Website</th>\n",
       "      <th>feedback_Products always in Stock</th>\n",
       "      <th>feedback_Quality Customer Care</th>\n",
       "      <th>feedback_Reasonable Price</th>\n",
       "      <th>feedback_Too many ads</th>\n",
       "      <th>feedback_User Friendly Website</th>\n",
       "      <th>Churn_probability</th>\n",
       "    </tr>\n",
       "  </thead>\n",
       "  <tbody>\n",
       "    <tr>\n",
       "      <th>0</th>\n",
       "      <td>0.148148</td>\n",
       "      <td>0</td>\n",
       "      <td>XW0DQ7H</td>\n",
       "      <td>17-08-2017</td>\n",
       "      <td>0</td>\n",
       "      <td>xxxxxxxx</td>\n",
       "      <td>16:08:02</td>\n",
       "      <td>0.991220</td>\n",
       "      <td>0.514859</td>\n",
       "      <td>0.526717</td>\n",
       "      <td>...</td>\n",
       "      <td>0</td>\n",
       "      <td>0</td>\n",
       "      <td>0</td>\n",
       "      <td>0</td>\n",
       "      <td>1</td>\n",
       "      <td>0</td>\n",
       "      <td>0</td>\n",
       "      <td>0</td>\n",
       "      <td>0</td>\n",
       "      <td>0.003610</td>\n",
       "    </tr>\n",
       "    <tr>\n",
       "      <th>1</th>\n",
       "      <td>0.407407</td>\n",
       "      <td>0</td>\n",
       "      <td>5K0N3X1</td>\n",
       "      <td>28-08-2017</td>\n",
       "      <td>0</td>\n",
       "      <td>CID21329</td>\n",
       "      <td>12:38:13</td>\n",
       "      <td>0.990244</td>\n",
       "      <td>0.515803</td>\n",
       "      <td>0.121456</td>\n",
       "      <td>...</td>\n",
       "      <td>0</td>\n",
       "      <td>0</td>\n",
       "      <td>0</td>\n",
       "      <td>0</td>\n",
       "      <td>0</td>\n",
       "      <td>1</td>\n",
       "      <td>0</td>\n",
       "      <td>0</td>\n",
       "      <td>0</td>\n",
       "      <td>0.003547</td>\n",
       "    </tr>\n",
       "    <tr>\n",
       "      <th>2</th>\n",
       "      <td>0.629630</td>\n",
       "      <td>0</td>\n",
       "      <td>1F2TCL3</td>\n",
       "      <td>11-11-2016</td>\n",
       "      <td>1</td>\n",
       "      <td>CID12313</td>\n",
       "      <td>22:53:21</td>\n",
       "      <td>0.988293</td>\n",
       "      <td>0.550486</td>\n",
       "      <td>0.204074</td>\n",
       "      <td>...</td>\n",
       "      <td>0</td>\n",
       "      <td>0</td>\n",
       "      <td>0</td>\n",
       "      <td>1</td>\n",
       "      <td>0</td>\n",
       "      <td>0</td>\n",
       "      <td>0</td>\n",
       "      <td>0</td>\n",
       "      <td>0</td>\n",
       "      <td>0.964750</td>\n",
       "    </tr>\n",
       "    <tr>\n",
       "      <th>3</th>\n",
       "      <td>0.500000</td>\n",
       "      <td>1</td>\n",
       "      <td>VJGJ33N</td>\n",
       "      <td>29-10-2016</td>\n",
       "      <td>1</td>\n",
       "      <td>CID3793</td>\n",
       "      <td>15:57:50</td>\n",
       "      <td>0.985366</td>\n",
       "      <td>0.473971</td>\n",
       "      <td>0.246577</td>\n",
       "      <td>...</td>\n",
       "      <td>0</td>\n",
       "      <td>0</td>\n",
       "      <td>0</td>\n",
       "      <td>1</td>\n",
       "      <td>0</td>\n",
       "      <td>0</td>\n",
       "      <td>0</td>\n",
       "      <td>0</td>\n",
       "      <td>0</td>\n",
       "      <td>0.970951</td>\n",
       "    </tr>\n",
       "    <tr>\n",
       "      <th>4</th>\n",
       "      <td>0.388889</td>\n",
       "      <td>0</td>\n",
       "      <td>SVZXCWB</td>\n",
       "      <td>12-09-2017</td>\n",
       "      <td>0</td>\n",
       "      <td>xxxxxxxx</td>\n",
       "      <td>15:46:44</td>\n",
       "      <td>0.994146</td>\n",
       "      <td>0.483866</td>\n",
       "      <td>0.238950</td>\n",
       "      <td>...</td>\n",
       "      <td>0</td>\n",
       "      <td>0</td>\n",
       "      <td>0</td>\n",
       "      <td>1</td>\n",
       "      <td>0</td>\n",
       "      <td>0</td>\n",
       "      <td>0</td>\n",
       "      <td>0</td>\n",
       "      <td>0</td>\n",
       "      <td>0.959872</td>\n",
       "    </tr>\n",
       "  </tbody>\n",
       "</table>\n",
       "<p>5 rows × 51 columns</p>\n",
       "</div>"
      ],
      "text/plain": [
       "        age  gender security_no joining_date  joined_through_referral  \\\n",
       "0  0.148148       0     XW0DQ7H   17-08-2017                        0   \n",
       "1  0.407407       0     5K0N3X1   28-08-2017                        0   \n",
       "2  0.629630       0     1F2TCL3   11-11-2016                        1   \n",
       "3  0.500000       1     VJGJ33N   29-10-2016                        1   \n",
       "4  0.388889       0     SVZXCWB   12-09-2017                        0   \n",
       "\n",
       "  referral_id last_visit_time  days_since_last_login  avg_session_duration  \\\n",
       "0    xxxxxxxx        16:08:02               0.991220              0.514859   \n",
       "1    CID21329        12:38:13               0.990244              0.515803   \n",
       "2    CID12313        22:53:21               0.988293              0.550486   \n",
       "3     CID3793        15:57:50               0.985366              0.473971   \n",
       "4    xxxxxxxx        15:46:44               0.994146              0.483866   \n",
       "\n",
       "   avg_transaction_value  ...  feedback_No reason specified  \\\n",
       "0               0.526717  ...                             0   \n",
       "1               0.121456  ...                             0   \n",
       "2               0.204074  ...                             0   \n",
       "3               0.246577  ...                             0   \n",
       "4               0.238950  ...                             0   \n",
       "\n",
       "   feedback_Poor Customer Service  feedback_Poor Product Quality  \\\n",
       "0                               0                              0   \n",
       "1                               0                              0   \n",
       "2                               0                              0   \n",
       "3                               0                              0   \n",
       "4                               0                              0   \n",
       "\n",
       "   feedback_Poor Website  feedback_Products always in Stock  \\\n",
       "0                      0                                  1   \n",
       "1                      0                                  0   \n",
       "2                      1                                  0   \n",
       "3                      1                                  0   \n",
       "4                      1                                  0   \n",
       "\n",
       "   feedback_Quality Customer Care  feedback_Reasonable Price  \\\n",
       "0                               0                          0   \n",
       "1                               1                          0   \n",
       "2                               0                          0   \n",
       "3                               0                          0   \n",
       "4                               0                          0   \n",
       "\n",
       "   feedback_Too many ads  feedback_User Friendly Website  Churn_probability  \n",
       "0                      0                               0           0.003610  \n",
       "1                      0                               0           0.003547  \n",
       "2                      0                               0           0.964750  \n",
       "3                      0                               0           0.970951  \n",
       "4                      0                               0           0.959872  \n",
       "\n",
       "[5 rows x 51 columns]"
      ]
     },
     "execution_count": 2,
     "metadata": {},
     "output_type": "execute_result"
    }
   ],
   "source": [
    "df_clv=pd.read_csv('df_clv.csv')\n",
    "df_clv.head()"
   ]
  },
  {
   "cell_type": "code",
   "execution_count": 3,
   "id": "33966f36",
   "metadata": {},
   "outputs": [
    {
     "data": {
      "text/plain": [
       "age                                               float64\n",
       "gender                                              int64\n",
       "security_no                                        object\n",
       "joining_date                                       object\n",
       "joined_through_referral                             int64\n",
       "referral_id                                        object\n",
       "last_visit_time                                    object\n",
       "days_since_last_login                             float64\n",
       "avg_session_duration                              float64\n",
       "avg_transaction_value                             float64\n",
       "avg_frequency_login_days                          float64\n",
       "points_in_wallet                                  float64\n",
       "used_special_discount                               int64\n",
       "offer_application_preference                        int64\n",
       "past_complaint                                      int64\n",
       "churn                                               int64\n",
       "logins_90d                                        float64\n",
       "active_days_90d                                   float64\n",
       "api_calls_90d                                     float64\n",
       "session_minutes_90d                               float64\n",
       "days_since_active                                 float64\n",
       "region_category_City                                int64\n",
       "region_category_Town                                int64\n",
       "region_category_Village                             int64\n",
       "preferred_offer_types_Credit/Debit Card Offers      int64\n",
       "preferred_offer_types_Gift Vouchers/Coupons         int64\n",
       "preferred_offer_types_Without Offers                int64\n",
       "medium_of_operation_Both                            int64\n",
       "medium_of_operation_Desktop                         int64\n",
       "medium_of_operation_Smartphone                      int64\n",
       "internet_option_Fiber_Optic                         int64\n",
       "internet_option_Mobile_Data                         int64\n",
       "internet_option_Wi-Fi                               int64\n",
       "complaint_status_No Information Available           int64\n",
       "complaint_status_Not Applicable                     int64\n",
       "complaint_status_Solved                             int64\n",
       "complaint_status_Solved in Follow-up                int64\n",
       "complaint_status_Unsolved                           int64\n",
       "plan_tier_Basic                                     int64\n",
       "plan_tier_Enterprise                                int64\n",
       "plan_tier_Pro                                       int64\n",
       "feedback_No reason specified                        int64\n",
       "feedback_Poor Customer Service                      int64\n",
       "feedback_Poor Product Quality                       int64\n",
       "feedback_Poor Website                               int64\n",
       "feedback_Products always in Stock                   int64\n",
       "feedback_Quality Customer Care                      int64\n",
       "feedback_Reasonable Price                           int64\n",
       "feedback_Too many ads                               int64\n",
       "feedback_User Friendly Website                      int64\n",
       "Churn_probability                                 float64\n",
       "dtype: object"
      ]
     },
     "execution_count": 3,
     "metadata": {},
     "output_type": "execute_result"
    }
   ],
   "source": [
    "df_clv.dtypes"
   ]
  },
  {
   "cell_type": "code",
   "execution_count": 4,
   "id": "40b7c6a2",
   "metadata": {},
   "outputs": [
    {
     "name": "stderr",
     "output_type": "stream",
     "text": [
      "/var/folders/nc/hvlqvddd2xj11jl0l69nx3580000gn/T/ipykernel_62586/3519070926.py:1: UserWarning: Parsing dates in %d-%m-%Y format when dayfirst=False (the default) was specified. Pass `dayfirst=True` or specify a format to silence this warning.\n",
      "  df_clv['joining_date']=pd.to_datetime(df_clv['joining_date'])\n",
      "/var/folders/nc/hvlqvddd2xj11jl0l69nx3580000gn/T/ipykernel_62586/3519070926.py:2: UserWarning: Could not infer format, so each element will be parsed individually, falling back to `dateutil`. To ensure parsing is consistent and as-expected, please specify a format.\n",
      "  df_clv['last_visit_time']=pd.to_datetime(df_clv['last_visit_time'])\n"
     ]
    }
   ],
   "source": [
    "df_clv['joining_date']=pd.to_datetime(df_clv['joining_date'])\n",
    "df_clv['last_visit_time']=pd.to_datetime(df_clv['last_visit_time'])"
   ]
  },
  {
   "cell_type": "code",
   "execution_count": 5,
   "id": "266507a4",
   "metadata": {},
   "outputs": [
    {
     "data": {
      "text/plain": [
       "age                                                      float64\n",
       "gender                                                     int64\n",
       "security_no                                               object\n",
       "joining_date                                      datetime64[ns]\n",
       "joined_through_referral                                    int64\n",
       "referral_id                                               object\n",
       "last_visit_time                                   datetime64[ns]\n",
       "days_since_last_login                                    float64\n",
       "avg_session_duration                                     float64\n",
       "avg_transaction_value                                    float64\n",
       "avg_frequency_login_days                                 float64\n",
       "points_in_wallet                                         float64\n",
       "used_special_discount                                      int64\n",
       "offer_application_preference                               int64\n",
       "past_complaint                                             int64\n",
       "churn                                                      int64\n",
       "logins_90d                                               float64\n",
       "active_days_90d                                          float64\n",
       "api_calls_90d                                            float64\n",
       "session_minutes_90d                                      float64\n",
       "days_since_active                                        float64\n",
       "region_category_City                                       int64\n",
       "region_category_Town                                       int64\n",
       "region_category_Village                                    int64\n",
       "preferred_offer_types_Credit/Debit Card Offers             int64\n",
       "preferred_offer_types_Gift Vouchers/Coupons                int64\n",
       "preferred_offer_types_Without Offers                       int64\n",
       "medium_of_operation_Both                                   int64\n",
       "medium_of_operation_Desktop                                int64\n",
       "medium_of_operation_Smartphone                             int64\n",
       "internet_option_Fiber_Optic                                int64\n",
       "internet_option_Mobile_Data                                int64\n",
       "internet_option_Wi-Fi                                      int64\n",
       "complaint_status_No Information Available                  int64\n",
       "complaint_status_Not Applicable                            int64\n",
       "complaint_status_Solved                                    int64\n",
       "complaint_status_Solved in Follow-up                       int64\n",
       "complaint_status_Unsolved                                  int64\n",
       "plan_tier_Basic                                            int64\n",
       "plan_tier_Enterprise                                       int64\n",
       "plan_tier_Pro                                              int64\n",
       "feedback_No reason specified                               int64\n",
       "feedback_Poor Customer Service                             int64\n",
       "feedback_Poor Product Quality                              int64\n",
       "feedback_Poor Website                                      int64\n",
       "feedback_Products always in Stock                          int64\n",
       "feedback_Quality Customer Care                             int64\n",
       "feedback_Reasonable Price                                  int64\n",
       "feedback_Too many ads                                      int64\n",
       "feedback_User Friendly Website                             int64\n",
       "Churn_probability                                        float64\n",
       "dtype: object"
      ]
     },
     "execution_count": 5,
     "metadata": {},
     "output_type": "execute_result"
    }
   ],
   "source": [
    "df_clv.dtypes"
   ]
  },
  {
   "cell_type": "code",
   "execution_count": 6,
   "id": "604ce732",
   "metadata": {},
   "outputs": [
    {
     "data": {
      "text/plain": [
       "count    36992.000000\n",
       "mean         0.483551\n",
       "std          0.355919\n",
       "min          0.000000\n",
       "25%          0.218541\n",
       "50%          0.437331\n",
       "75%          0.657905\n",
       "max          4.222199\n",
       "Name: transaction/day, dtype: float64"
      ]
     },
     "execution_count": 6,
     "metadata": {},
     "output_type": "execute_result"
    }
   ],
   "source": [
    "df_clv['transaction/day']=df_clv['avg_transaction_value']/(df_clv['avg_frequency_login_days']+0.1)\n",
    "df_clv['transaction/day'].describe()"
   ]
  },
  {
   "cell_type": "code",
   "execution_count": 7,
   "id": "db22e564",
   "metadata": {},
   "outputs": [],
   "source": [
    "df_clv['CLV']=(df_clv['avg_frequency_login_days']*df_clv['points_in_wallet']*df_clv['avg_session_duration']*(1-df_clv['Churn_probability']))/((df_clv['days_since_active']+df_clv['days_since_last_login'])*df_clv['Churn_probability']+0.01)*(1-df_clv['Churn_probability'])"
   ]
  },
  {
   "cell_type": "code",
   "execution_count": 8,
   "id": "f567dc73",
   "metadata": {},
   "outputs": [
    {
     "data": {
      "text/plain": [
       "churn                                             1.000000\n",
       "Churn_probability                                 0.918877\n",
       "plan_tier_Basic                                   0.726132\n",
       "api_calls_90d                                     0.659219\n",
       "active_days_90d                                   0.647458\n",
       "logins_90d                                        0.643144\n",
       "plan_tier_Enterprise                              0.606217\n",
       "session_minutes_90d                               0.524295\n",
       "points_in_wallet                                  0.292793\n",
       "days_since_active                                 0.273094\n",
       "transaction/day                                   0.234234\n",
       "avg_transaction_value                             0.218012\n",
       "feedback_Reasonable Price                         0.216665\n",
       "feedback_User Friendly Website                    0.214590\n",
       "feedback_Products always in Stock                 0.213867\n",
       "feedback_Quality Customer Care                    0.212093\n",
       "plan_tier_Pro                                     0.210168\n",
       "avg_frequency_login_days                          0.125611\n",
       "feedback_Poor Product Quality                     0.099519\n",
       "feedback_Poor Customer Service                    0.088269\n",
       "feedback_No reason specified                      0.085376\n",
       "feedback_Poor Website                             0.082339\n",
       "feedback_Too many ads                             0.078059\n",
       "preferred_offer_types_Without Offers              0.039608\n",
       "preferred_offer_types_Gift Vouchers/Coupons       0.035504\n",
       "joined_through_referral                           0.028695\n",
       "region_category_Village                           0.022167\n",
       "offer_application_preference                      0.018729\n",
       "medium_of_operation_Smartphone                    0.017517\n",
       "avg_session_duration                              0.014263\n",
       "medium_of_operation_Both                          0.013946\n",
       "used_special_discount                             0.010648\n",
       "joining_date                                      0.009913\n",
       "region_category_City                              0.008964\n",
       "past_complaint                                    0.008934\n",
       "complaint_status_Not Applicable                   0.008934\n",
       "medium_of_operation_Desktop                       0.008492\n",
       "internet_option_Wi-Fi                             0.007492\n",
       "region_category_Town                              0.006255\n",
       "complaint_status_Solved in Follow-up              0.006248\n",
       "days_since_last_login                             0.006228\n",
       "complaint_status_No Information Available         0.006199\n",
       "age                                               0.006124\n",
       "last_visit_time                                   0.005774\n",
       "internet_option_Fiber_Optic                       0.005482\n",
       "gender                                            0.004701\n",
       "complaint_status_Solved                           0.004629\n",
       "preferred_offer_types_Credit/Debit Card Offers    0.003688\n",
       "complaint_status_Unsolved                         0.003491\n",
       "internet_option_Mobile_Data                       0.002032\n",
       "Name: churn, dtype: float64"
      ]
     },
     "execution_count": 8,
     "metadata": {},
     "output_type": "execute_result"
    }
   ],
   "source": [
    "abs(df_clv.drop(columns=['referral_id','security_no','CLV']).corr()['churn']).sort_values(ascending=False)"
   ]
  },
  {
   "cell_type": "code",
   "execution_count": 9,
   "id": "53ea76bc",
   "metadata": {},
   "outputs": [],
   "source": [
    "df_clv['recency']=1/(1+df_clv['days_since_active'])"
   ]
  },
  {
   "cell_type": "code",
   "execution_count": 10,
   "id": "9268b93f",
   "metadata": {},
   "outputs": [
    {
     "data": {
      "text/html": [
       "<div>\n",
       "<style scoped>\n",
       "    .dataframe tbody tr th:only-of-type {\n",
       "        vertical-align: middle;\n",
       "    }\n",
       "\n",
       "    .dataframe tbody tr th {\n",
       "        vertical-align: top;\n",
       "    }\n",
       "\n",
       "    .dataframe thead th {\n",
       "        text-align: right;\n",
       "    }\n",
       "</style>\n",
       "<table border=\"1\" class=\"dataframe\">\n",
       "  <thead>\n",
       "    <tr style=\"text-align: right;\">\n",
       "      <th></th>\n",
       "      <th>CLV</th>\n",
       "    </tr>\n",
       "  </thead>\n",
       "  <tbody>\n",
       "    <tr>\n",
       "      <th>0</th>\n",
       "      <td>10.591081</td>\n",
       "    </tr>\n",
       "    <tr>\n",
       "      <th>1</th>\n",
       "      <td>8.883273</td>\n",
       "    </tr>\n",
       "    <tr>\n",
       "      <th>2</th>\n",
       "      <td>0.000148</td>\n",
       "    </tr>\n",
       "    <tr>\n",
       "      <th>3</th>\n",
       "      <td>0.000066</td>\n",
       "    </tr>\n",
       "    <tr>\n",
       "      <th>4</th>\n",
       "      <td>0.000203</td>\n",
       "    </tr>\n",
       "    <tr>\n",
       "      <th>...</th>\n",
       "      <td>...</td>\n",
       "    </tr>\n",
       "    <tr>\n",
       "      <th>36987</th>\n",
       "      <td>0.000066</td>\n",
       "    </tr>\n",
       "    <tr>\n",
       "      <th>36988</th>\n",
       "      <td>0.000068</td>\n",
       "    </tr>\n",
       "    <tr>\n",
       "      <th>36989</th>\n",
       "      <td>0.000100</td>\n",
       "    </tr>\n",
       "    <tr>\n",
       "      <th>36990</th>\n",
       "      <td>7.394920</td>\n",
       "    </tr>\n",
       "    <tr>\n",
       "      <th>36991</th>\n",
       "      <td>5.417221</td>\n",
       "    </tr>\n",
       "  </tbody>\n",
       "</table>\n",
       "<p>36992 rows × 1 columns</p>\n",
       "</div>"
      ],
      "text/plain": [
       "             CLV\n",
       "0      10.591081\n",
       "1       8.883273\n",
       "2       0.000148\n",
       "3       0.000066\n",
       "4       0.000203\n",
       "...          ...\n",
       "36987   0.000066\n",
       "36988   0.000068\n",
       "36989   0.000100\n",
       "36990   7.394920\n",
       "36991   5.417221\n",
       "\n",
       "[36992 rows x 1 columns]"
      ]
     },
     "execution_count": 10,
     "metadata": {},
     "output_type": "execute_result"
    }
   ],
   "source": [
    "df_clv[['CLV']]"
   ]
  },
  {
   "cell_type": "code",
   "execution_count": 11,
   "id": "42a33d51",
   "metadata": {},
   "outputs": [
    {
     "data": {
      "text/html": [
       "<div>\n",
       "<style scoped>\n",
       "    .dataframe tbody tr th:only-of-type {\n",
       "        vertical-align: middle;\n",
       "    }\n",
       "\n",
       "    .dataframe tbody tr th {\n",
       "        vertical-align: top;\n",
       "    }\n",
       "\n",
       "    .dataframe thead th {\n",
       "        text-align: right;\n",
       "    }\n",
       "</style>\n",
       "<table border=\"1\" class=\"dataframe\">\n",
       "  <thead>\n",
       "    <tr style=\"text-align: right;\">\n",
       "      <th></th>\n",
       "      <th>CLV</th>\n",
       "    </tr>\n",
       "  </thead>\n",
       "  <tbody>\n",
       "    <tr>\n",
       "      <th>count</th>\n",
       "      <td>36992.000000</td>\n",
       "    </tr>\n",
       "    <tr>\n",
       "      <th>mean</th>\n",
       "      <td>3.432011</td>\n",
       "    </tr>\n",
       "    <tr>\n",
       "      <th>std</th>\n",
       "      <td>4.650793</td>\n",
       "    </tr>\n",
       "    <tr>\n",
       "      <th>min</th>\n",
       "      <td>0.000000</td>\n",
       "    </tr>\n",
       "    <tr>\n",
       "      <th>25%</th>\n",
       "      <td>0.000143</td>\n",
       "    </tr>\n",
       "    <tr>\n",
       "      <th>50%</th>\n",
       "      <td>0.007448</td>\n",
       "    </tr>\n",
       "    <tr>\n",
       "      <th>75%</th>\n",
       "      <td>7.822706</td>\n",
       "    </tr>\n",
       "    <tr>\n",
       "      <th>max</th>\n",
       "      <td>24.148602</td>\n",
       "    </tr>\n",
       "  </tbody>\n",
       "</table>\n",
       "</div>"
      ],
      "text/plain": [
       "                CLV\n",
       "count  36992.000000\n",
       "mean       3.432011\n",
       "std        4.650793\n",
       "min        0.000000\n",
       "25%        0.000143\n",
       "50%        0.007448\n",
       "75%        7.822706\n",
       "max       24.148602"
      ]
     },
     "execution_count": 11,
     "metadata": {},
     "output_type": "execute_result"
    }
   ],
   "source": [
    "df_clv[['CLV']].describe()"
   ]
  },
  {
   "cell_type": "code",
   "execution_count": 12,
   "id": "ab932889",
   "metadata": {},
   "outputs": [
    {
     "data": {
      "text/plain": [
       "CLV                                               1.000000\n",
       "Churn_probability                                 0.875928\n",
       "churn                                             0.797016\n",
       "api_calls_90d                                     0.789279\n",
       "plan_tier_Enterprise                              0.785147\n",
       "logins_90d                                        0.670893\n",
       "active_days_90d                                   0.665534\n",
       "plan_tier_Basic                                   0.623680\n",
       "session_minutes_90d                               0.547191\n",
       "points_in_wallet                                  0.322946\n",
       "recency                                           0.278048\n",
       "days_since_active                                 0.263520\n",
       "avg_transaction_value                             0.258312\n",
       "transaction/day                                   0.252909\n",
       "feedback_Quality Customer Care                    0.241708\n",
       "feedback_Reasonable Price                         0.238656\n",
       "feedback_Products always in Stock                 0.238409\n",
       "feedback_User Friendly Website                    0.238325\n",
       "avg_session_duration                              0.110584\n",
       "feedback_Poor Product Quality                     0.108523\n",
       "feedback_No reason specified                      0.099386\n",
       "feedback_Poor Customer Service                    0.097103\n",
       "feedback_Poor Website                             0.094132\n",
       "days_since_last_login                             0.087281\n",
       "feedback_Too many ads                             0.084904\n",
       "plan_tier_Pro                                     0.056211\n",
       "avg_frequency_login_days                          0.041131\n",
       "preferred_offer_types_Without Offers              0.039536\n",
       "medium_of_operation_Both                          0.038915\n",
       "preferred_offer_types_Gift Vouchers/Coupons       0.032710\n",
       "medium_of_operation_Smartphone                    0.028132\n",
       "region_category_Village                           0.026253\n",
       "offer_application_preference                      0.024453\n",
       "used_special_discount                             0.022684\n",
       "joined_through_referral                           0.014942\n",
       "joining_date                                      0.010459\n",
       "region_category_City                              0.009536\n",
       "region_category_Town                              0.008437\n",
       "complaint_status_Solved                           0.008262\n",
       "past_complaint                                    0.007627\n",
       "complaint_status_Not Applicable                   0.007627\n",
       "gender                                            0.007365\n",
       "last_visit_time                                   0.007330\n",
       "complaint_status_Solved in Follow-up              0.006755\n",
       "age                                               0.006730\n",
       "preferred_offer_types_Credit/Debit Card Offers    0.006432\n",
       "internet_option_Wi-Fi                             0.005685\n",
       "complaint_status_Unsolved                         0.005482\n",
       "internet_option_Mobile_Data                       0.003601\n",
       "medium_of_operation_Desktop                       0.003587\n",
       "internet_option_Fiber_Optic                       0.002096\n",
       "complaint_status_No Information Available         0.002054\n",
       "Name: CLV, dtype: float64"
      ]
     },
     "execution_count": 12,
     "metadata": {},
     "output_type": "execute_result"
    }
   ],
   "source": [
    "abs(df_clv.drop(columns=['referral_id','security_no']).corr()['CLV']).sort_values(ascending=False)"
   ]
  },
  {
   "cell_type": "code",
   "execution_count": 13,
   "id": "4f6185aa",
   "metadata": {},
   "outputs": [],
   "source": [
    "x_clv=df_clv.drop(columns=['referral_id','security_no','joining_date','CLV','last_visit_time','churn','transaction/day','avg_frequency_login_days','avg_session_duration','avg_transaction_value','points_in_wallet','days_since_active','days_since_last_login'])\n",
    "y_clv=df_clv['CLV']"
   ]
  },
  {
   "cell_type": "code",
   "execution_count": 14,
   "id": "c8901dc6",
   "metadata": {},
   "outputs": [],
   "source": [
    "from sklearn.model_selection import train_test_split\n",
    "x_train_clv,x_test_clv,y_train_clv,y_test_clv=train_test_split(x_clv,y_clv,test_size=0.2,random_state=42)"
   ]
  },
  {
   "cell_type": "code",
   "execution_count": 27,
   "id": "dbc0cc20",
   "metadata": {},
   "outputs": [],
   "source": [
    "from sklearn.linear_model import LinearRegression\n",
    "from sklearn.ensemble import RandomForestRegressor,VotingRegressor\n",
    "from catboost import CatBoostRegressor\n",
    "from xgboost import XGBRegressor\n",
    "from lightgbm import LGBMRegressor\n",
    "\n",
    "\n",
    "models={\n",
    "    \"LinearRegression\":LinearRegression(),\n",
    "    \"RandomForest\":RandomForestRegressor(n_estimators=200,random_state=42),\n",
    "    \"XGB\":XGBRegressor(n_estimators=300,learning_rate=0.1,random_state=42),\n",
    "    \"LGBM\":LGBMRegressor(n_estimators=300,learning_rate=0.1,random_state=42,verbose=-1),\n",
    "    \"CatBoost\":CatBoostRegressor(iterations=300,learning_rate=0.1,verbose=False,random_state=42)\n",
    "}\n"
   ]
  },
  {
   "cell_type": "code",
   "execution_count": 28,
   "id": "854caaea",
   "metadata": {},
   "outputs": [],
   "source": [
    "from sklearn.metrics import root_mean_squared_error,mean_absolute_error,r2_score"
   ]
  },
  {
   "cell_type": "code",
   "execution_count": 29,
   "id": "a96214c5",
   "metadata": {},
   "outputs": [],
   "source": [
    "results={}\n",
    "\n",
    "for name,model in models.items():\n",
    "    model.fit(x_train_clv,y_train_clv)\n",
    "    y_pred_clv=model.predict(x_test_clv)\n",
    "\n",
    "    rmse=root_mean_squared_error(y_test_clv,y_pred_clv)\n",
    "    mae=mean_absolute_error(y_test_clv,y_pred_clv)\n",
    "    r2=r2_score(y_test_clv,y_pred_clv)\n",
    "\n",
    "    results[name]={\"RMSE\":rmse,\"MAE\":mae,\"R2_Score\":r2}"
   ]
  },
  {
   "cell_type": "code",
   "execution_count": 30,
   "id": "113769e6",
   "metadata": {},
   "outputs": [
    {
     "data": {
      "text/html": [
       "<div>\n",
       "<style scoped>\n",
       "    .dataframe tbody tr th:only-of-type {\n",
       "        vertical-align: middle;\n",
       "    }\n",
       "\n",
       "    .dataframe tbody tr th {\n",
       "        vertical-align: top;\n",
       "    }\n",
       "\n",
       "    .dataframe thead th {\n",
       "        text-align: right;\n",
       "    }\n",
       "</style>\n",
       "<table border=\"1\" class=\"dataframe\">\n",
       "  <thead>\n",
       "    <tr style=\"text-align: right;\">\n",
       "      <th></th>\n",
       "      <th>LinearRegression</th>\n",
       "      <th>RandomForest</th>\n",
       "      <th>XGB</th>\n",
       "      <th>LGBM</th>\n",
       "      <th>CatBoost</th>\n",
       "    </tr>\n",
       "  </thead>\n",
       "  <tbody>\n",
       "    <tr>\n",
       "      <th>RMSE</th>\n",
       "      <td>1.756982</td>\n",
       "      <td>1.301645</td>\n",
       "      <td>1.300496</td>\n",
       "      <td>1.291497</td>\n",
       "      <td>1.280498</td>\n",
       "    </tr>\n",
       "    <tr>\n",
       "      <th>MAE</th>\n",
       "      <td>1.082053</td>\n",
       "      <td>0.595537</td>\n",
       "      <td>0.598298</td>\n",
       "      <td>0.591032</td>\n",
       "      <td>0.588022</td>\n",
       "    </tr>\n",
       "    <tr>\n",
       "      <th>R2_Score</th>\n",
       "      <td>0.854567</td>\n",
       "      <td>0.920179</td>\n",
       "      <td>0.920320</td>\n",
       "      <td>0.921419</td>\n",
       "      <td>0.922752</td>\n",
       "    </tr>\n",
       "  </tbody>\n",
       "</table>\n",
       "</div>"
      ],
      "text/plain": [
       "          LinearRegression  RandomForest       XGB      LGBM  CatBoost\n",
       "RMSE              1.756982      1.301645  1.300496  1.291497  1.280498\n",
       "MAE               1.082053      0.595537  0.598298  0.591032  0.588022\n",
       "R2_Score          0.854567      0.920179  0.920320  0.921419  0.922752"
      ]
     },
     "execution_count": 30,
     "metadata": {},
     "output_type": "execute_result"
    }
   ],
   "source": [
    "results_df=pd.DataFrame(results)\n",
    "results_df"
   ]
  },
  {
   "cell_type": "code",
   "execution_count": 19,
   "id": "763ba519",
   "metadata": {},
   "outputs": [],
   "source": [
    "from sklearn.model_selection import cross_val_score\n",
    "cross_val={}\n",
    "for name,model in models.items():\n",
    "    cross_validation=cross_val_score(model,x_train_clv,y_train_clv,cv=5,scoring='r2')\n",
    "    cross_val[name]={\"Cross_val_score\":cross_validation.mean()}"
   ]
  },
  {
   "cell_type": "code",
   "execution_count": 20,
   "id": "1f26f55d",
   "metadata": {},
   "outputs": [
    {
     "data": {
      "text/html": [
       "<div>\n",
       "<style scoped>\n",
       "    .dataframe tbody tr th:only-of-type {\n",
       "        vertical-align: middle;\n",
       "    }\n",
       "\n",
       "    .dataframe tbody tr th {\n",
       "        vertical-align: top;\n",
       "    }\n",
       "\n",
       "    .dataframe thead th {\n",
       "        text-align: right;\n",
       "    }\n",
       "</style>\n",
       "<table border=\"1\" class=\"dataframe\">\n",
       "  <thead>\n",
       "    <tr style=\"text-align: right;\">\n",
       "      <th></th>\n",
       "      <th>LinearRegression</th>\n",
       "      <th>RandomForest</th>\n",
       "      <th>XGB</th>\n",
       "      <th>LGBM</th>\n",
       "      <th>CatBoost</th>\n",
       "    </tr>\n",
       "  </thead>\n",
       "  <tbody>\n",
       "    <tr>\n",
       "      <th>Cross_val_score</th>\n",
       "      <td>0.852142</td>\n",
       "      <td>0.91465</td>\n",
       "      <td>0.912488</td>\n",
       "      <td>0.91439</td>\n",
       "      <td>0.918031</td>\n",
       "    </tr>\n",
       "  </tbody>\n",
       "</table>\n",
       "</div>"
      ],
      "text/plain": [
       "                 LinearRegression  RandomForest       XGB     LGBM  CatBoost\n",
       "Cross_val_score          0.852142       0.91465  0.912488  0.91439  0.918031"
      ]
     },
     "execution_count": 20,
     "metadata": {},
     "output_type": "execute_result"
    }
   ],
   "source": [
    "scores_df=pd.DataFrame(cross_val)\n",
    "scores_df"
   ]
  },
  {
   "cell_type": "markdown",
   "id": "3b181166",
   "metadata": {},
   "source": [
    "### So, CatBoost comes out to be best"
   ]
  },
  {
   "cell_type": "code",
   "execution_count": 21,
   "id": "c9030788",
   "metadata": {},
   "outputs": [
    {
     "data": {
      "text/plain": [
       "0.9227520934201224"
      ]
     },
     "execution_count": 21,
     "metadata": {},
     "output_type": "execute_result"
    }
   ],
   "source": [
    "clv_model=CatBoostRegressor(iterations=300,learning_rate=0.1,verbose=False,random_state=42)\n",
    "clv_model.fit(x_train_clv,y_train_clv)\n",
    "y_pred_clv_final=clv_model.predict(x_test_clv)\n",
    "r2_score(y_test_clv,y_pred_clv_final)"
   ]
  },
  {
   "cell_type": "code",
   "execution_count": 22,
   "id": "7493359a",
   "metadata": {},
   "outputs": [],
   "source": [
    "df_cluster=df_clv.copy()\n",
    "df_cluster.to_csv('df_cluster.csv',index=False)"
   ]
  },
  {
   "cell_type": "markdown",
   "id": "8d87efa1",
   "metadata": {},
   "source": [
    "# Visulization by Scatterplot"
   ]
  },
  {
   "cell_type": "code",
   "execution_count": 23,
   "id": "4804ac71",
   "metadata": {},
   "outputs": [
    {
     "data": {
      "text/plain": [
       "<Axes: xlabel='CLV', ylabel='Churn_probability'>"
      ]
     },
     "execution_count": 23,
     "metadata": {},
     "output_type": "execute_result"
    },
    {
     "data": {
      "image/png": "[encoded data removed]",
      "text/plain": [
       "<Figure size 640x480 with 1 Axes>"
      ]
     },
     "metadata": {},
     "output_type": "display_data"
    }
   ],
   "source": [
    "import matplotlib.pyplot as plt\n",
    "import seaborn as sns\n",
    "sns.scatterplot(x=df_clv['CLV'],y=df_clv['Churn_probability'],hue=df_clv['churn'])"
   ]
  }
 ],
 "metadata": {
  "kernelspec": {
   "display_name": "Python 3",
   "language": "python",
   "name": "python3"
  },
  "language_info": {
   "codemirror_mode": {
    "name": "ipython",
    "version": 3
   },
   "file_extension": ".py",
   "mimetype": "text/x-python",
   "name": "python",
   "nbconvert_exporter": "python",
   "pygments_lexer": "ipython3",
   "version": "3.9.6"
  }
 },
 "nbformat": 4,
 "nbformat_minor": 5
}
